{
 "cells": [
  {
   "cell_type": "markdown",
   "metadata": {},
   "source": [
    "## Data Analysis and Machine Learning using custom Neural Network (w/o any sicfy libraries)"
   ]
  },
  {
   "cell_type": "code",
   "execution_count": 1,
   "metadata": {
    "_cell_guid": "b1076dfc-b9ad-4769-8c92-a6c4dae69d19",
    "_uuid": "8f2839f25d086af736a60e9eeb907d3b93b6e0e5"
   },
   "outputs": [
    {
     "name": "stdout",
     "output_type": "stream",
     "text": [
      "sample_submission.csv\n",
      "test.csv\n",
      "train.csv\n",
      "\n"
     ]
    }
   ],
   "source": [
    "# This Python 3 environment comes with many helpful analytics libraries installed\n",
    "# It is defined by the kaggle/python docker image: https://github.com/kaggle/docker-python\n",
    "# For example, here's several helpful packages to load in \n",
    "\n",
    "import numpy as np # linear algebra\n",
    "import pandas as pd # data processing, CSV file I/O (e.g. pd.read_csv)\n",
    "import seaborn as sns # for data visualisation\n",
    "from matplotlib import pyplot as plt # for data visualisation\n",
    "\n",
    "# crazy thing we do for displaying graphs between cells\n",
    "%matplotlib inline\n",
    "\n",
    "# Input data files are available in the \"../input/\" directory.\n",
    "# For example, running this (by clicking run or pressing Shift+Enter) will list the files in the input directory\n",
    "\n",
    "from subprocess import check_output\n",
    "print(check_output([\"ls\", \"../input\"]).decode(\"utf8\"))\n",
    "\n",
    "# Any results you write to the current directory are saved as output.\n",
    "np.random.seed(0)"
   ]
  },
  {
   "cell_type": "markdown",
   "metadata": {},
   "source": [
    "### Load Data"
   ]
  },
  {
   "cell_type": "code",
   "execution_count": 2,
   "metadata": {},
   "outputs": [],
   "source": [
    "# Loading the training data\n",
    "train = pd.read_csv(\"../input/train.csv\")"
   ]
  },
  {
   "cell_type": "code",
   "execution_count": 3,
   "metadata": {},
   "outputs": [],
   "source": [
    "# Loading the testing data\n",
    "test = pd.read_csv(\"../input/test.csv\")"
   ]
  },
  {
   "cell_type": "code",
   "execution_count": 4,
   "metadata": {},
   "outputs": [
    {
     "name": "stdout",
     "output_type": "stream",
     "text": [
      "<class 'pandas.core.frame.DataFrame'>\n",
      "RangeIndex: 28000 entries, 0 to 27999\n",
      "Columns: 784 entries, pixel0 to pixel783\n",
      "dtypes: int64(784)\n",
      "memory usage: 167.5 MB\n"
     ]
    }
   ],
   "source": [
    "test.info()"
   ]
  },
  {
   "cell_type": "markdown",
   "metadata": {},
   "source": [
    "### Data Visualisation\n",
    "\n",
    "Let's visualise some of the images using matplotlib"
   ]
  },
  {
   "cell_type": "code",
   "execution_count": 5,
   "metadata": {},
   "outputs": [
    {
     "data": {
      "image/png": "[encoded data removed]",
      "text/plain": [
       "<Figure size 1476x612 with 9 Axes>"
      ]
     },
     "metadata": {},
     "output_type": "display_data"
    }
   ],
   "source": [
    "# Creating a figure to display images in rows and columns pattern (1x 10)\n",
    "figure = plt.figure()\n",
    "\n",
    "# Manually setting the figure width and height\n",
    "figure.set_size_inches(20.5, 8.5)\n",
    "\n",
    "# Setting up an image in each figure with a title of image label\n",
    "for itr in range(1, 10):\n",
    "    plt.subplot(1, 10, itr)\n",
    "    label = train.loc[itr,'label']\n",
    "    pixels = train.iloc[itr,1:].values.reshape((28,28))\n",
    "    plt.title('Label is {label}'.format(label=label))\n",
    "    plt.imshow(pixels)\n",
    "\n",
    "# Displaying all image present in figure\n",
    "plt.show()"
   ]
  },
  {
   "cell_type": "markdown",
   "metadata": {},
   "source": [
    "### Normalizing Data\n"
   ]
  },
  {
   "cell_type": "code",
   "execution_count": 6,
   "metadata": {},
   "outputs": [],
   "source": [
    "# We will divide the pixel value by fac and fit the values in range [0.01, 0.99] \n",
    "fac = 255\n",
    "range_class = np.arange(10)"
   ]
  },
  {
   "cell_type": "markdown",
   "metadata": {},
   "source": [
    "> **Since, we have our training dataset ready,we can now get out input as X and output as y value from our dataset to train our model.**"
   ]
  },
  {
   "cell_type": "code",
   "execution_count": 7,
   "metadata": {},
   "outputs": [
    {
     "name": "stdout",
     "output_type": "stream",
     "text": [
      "[[0. 0. 0. ... 0. 0. 0.]\n",
      " [0. 0. 0. ... 0. 0. 0.]\n",
      " [0. 0. 0. ... 0. 0. 0.]\n",
      " ...\n",
      " [0. 0. 0. ... 0. 0. 0.]\n",
      " [0. 0. 0. ... 0. 0. 0.]\n",
      " [0. 0. 0. ... 0. 0. 0.]]\n"
     ]
    }
   ],
   "source": [
    "X = train.iloc[:,1:].values / fac\n",
    "print(X)"
   ]
  },
  {
   "cell_type": "code",
   "execution_count": 8,
   "metadata": {},
   "outputs": [
    {
     "name": "stdout",
     "output_type": "stream",
     "text": [
      "[[0. 1. 0. ... 0. 0. 0.]\n",
      " [1. 0. 0. ... 0. 0. 0.]\n",
      " [0. 1. 0. ... 0. 0. 0.]\n",
      " ...\n",
      " [0. 0. 0. ... 1. 0. 0.]\n",
      " [0. 0. 0. ... 0. 0. 0.]\n",
      " [0. 0. 0. ... 0. 0. 1.]]\n"
     ]
    }
   ],
   "source": [
    "y = np.asfarray(train.iloc[:,0])\n",
    "y = np.array([(range_class==label).astype(np.float) for label in y])\n",
    "print(y)"
   ]
  },
  {
   "cell_type": "code",
   "execution_count": 9,
   "metadata": {},
   "outputs": [
    {
     "name": "stdout",
     "output_type": "stream",
     "text": [
      "[[0. 0. 0. ... 0. 0. 0.]\n",
      " [0. 0. 0. ... 0. 0. 0.]\n",
      " [0. 0. 0. ... 0. 0. 0.]\n",
      " ...\n",
      " [0. 0. 0. ... 0. 0. 0.]\n",
      " [0. 0. 0. ... 0. 0. 0.]\n",
      " [0. 0. 0. ... 0. 0. 0.]]\n"
     ]
    }
   ],
   "source": [
    "test_X = test.values / fac\n",
    "print(test_X)"
   ]
  },
  {
   "cell_type": "markdown",
   "metadata": {},
   "source": [
    "### Backpropogating Neural Network\n",
    "\n",
    "#### The neural network that we will create will have 3 layers:\n",
    "* Input Layer\n",
    "* Hidden Layer\n",
    "* Output Layer\n",
    "\n",
    "\n",
    "1. **Input Layer**: This layer will consist of 4 nodes as we have 4 features Sepal Length, Sepal Width, Petal Length, PetalWidth.\n",
    "\n",
    "2. **Output Layer**: This layer will consist of 3 nodes as we have to classify between 3 outputs only. So if the value of output layer is 1,0,0 that means the prediction is Iris-setosa or if the output value is 0,1,0 then prediction will be Iris-versicolor.\n",
    "\n",
    "> `w1`, `w2` will be a matrix that contains the weights of each connecting layer between Input nodes and Hidden nodes and Hidden nodes to Output nodes. The values of weights will range from `-1` to `1` with an overall mean of `0`.\n",
    "\n"
   ]
  },
  {
   "cell_type": "code",
   "execution_count": 10,
   "metadata": {},
   "outputs": [
    {
     "name": "stdout",
     "output_type": "stream",
     "text": [
      "(784, 20)\n"
     ]
    }
   ],
   "source": [
    "hidden_layer_nodes = 20\n",
    "input_layer_nodes = len(X[0])\n",
    "\n",
    "w1 = 2 * np.random.random((input_layer_nodes, hidden_layer_nodes)) - 1\n",
    "print(w1.shape)"
   ]
  },
  {
   "cell_type": "markdown",
   "metadata": {},
   "source": [
    "> `w2` will be the weights of connection between the hidden layer and next hidden layer. This will also has the same property same as `w1`."
   ]
  },
  {
   "cell_type": "code",
   "execution_count": 11,
   "metadata": {},
   "outputs": [
    {
     "name": "stdout",
     "output_type": "stream",
     "text": [
      "(20, 20)\n"
     ]
    }
   ],
   "source": [
    "w2 = 2 * np.random.random((hidden_layer_nodes, hidden_layer_nodes)) - 1\n",
    "print(w2.shape)"
   ]
  },
  {
   "cell_type": "code",
   "execution_count": 12,
   "metadata": {},
   "outputs": [
    {
     "name": "stdout",
     "output_type": "stream",
     "text": [
      "(20, 10)\n"
     ]
    }
   ],
   "source": [
    "output_layer_nodes = len(y[0])\n",
    "w3 = 2 * np.random.random((hidden_layer_nodes, output_layer_nodes)) - 1\n",
    "print(w3.shape)"
   ]
  },
  {
   "cell_type": "markdown",
   "metadata": {},
   "source": [
    "## Train the network by updating weights using Back Propagation Algorithm\n",
    "\n",
    "The two main important parts of traning our neural network is:\n",
    "1. Forward Propagation\n",
    "2. Back Propagation\n",
    "\n",
    "\n",
    "#### Forward Propagation ( use current weights to caluculate output ):\n",
    "* In Forward Propogation, we calculate the values of nodes present in the hidden layer using the weight matix (w1) and input nodes and then calculating the value of output nodes using the hidden layer nodes and weight matrix (w2).\n",
    "\n",
    "#### Backpropagation ( update network weights ):\n",
    "* As per my views, I think this is the core of neural network since under this section we update the weight matrix based on the error using gradient discent. After we calculate the output using feed forward network, we will calculate the error in this layer by subtracting the actual output and predicted output and then we will adjust our weight matrix to minimize the error.\n"
   ]
  },
  {
   "cell_type": "markdown",
   "metadata": {},
   "source": [
    "### Activation Fucntion\n",
    "\n",
    "In this netwok, we will be using the Sigmoid Activation function. But there are many other activation that you can use. The purpose of activation function is to squash the any value in the range between 0 and 1. We do this to bring non-leniarity in our model so that it can learn more complex function instead of just linear function.\n",
    "\n",
    "For your learning about activation function, here are the links to [video](https://www.youtube.com/watch?v=NkOv_k7r6no) or [reading](https://towardsdatascience.com/activation-functions-and-its-types-which-is-better-a9a5310cc8f).\n"
   ]
  },
  {
   "cell_type": "code",
   "execution_count": 13,
   "metadata": {},
   "outputs": [],
   "source": [
    "# Sigmoid Function Defination\n",
    "def sigmoid(x):\n",
    "    return 1 / (1 + np.exp(-x))\n",
    "\n",
    "def sigmoid_derivative(x):\n",
    "    return x * (1 - x)"
   ]
  },
  {
   "cell_type": "code",
   "execution_count": 14,
   "metadata": {},
   "outputs": [
    {
     "data": {
      "image/png": "[encoded data removed]",
      "text/plain": [
       "<Figure size 432x288 with 1 Axes>"
      ]
     },
     "metadata": {},
     "output_type": "display_data"
    }
   ],
   "source": [
    "_x = np.linspace(-5, 5, 40)\n",
    "plt.plot(sigmoid(_x))\n",
    "plt.plot(sigmoid_derivative(sigmoid(_x)))\n",
    "plt.grid()"
   ]
  },
  {
   "cell_type": "code",
   "execution_count": 15,
   "metadata": {},
   "outputs": [
    {
     "name": "stdout",
     "output_type": "stream",
     "text": [
      "Error : 0.0062121833410025435\n"
     ]
    }
   ],
   "source": [
    "learning_rate = 0.0003\n",
    "error_per_iter = []\n",
    "\n",
    "for i in range(10000):\n",
    "    \n",
    "    l1 = sigmoid(np.dot(X, w1))\n",
    "    l2 = sigmoid(np.dot(l1, w2))\n",
    "    l3 = sigmoid(np.dot(l2, w3))\n",
    "    \n",
    "    error = (abs(y - l3)).mean()\n",
    "    \n",
    "    error_per_iter.append(error)\n",
    "    \n",
    "    l3_delta = (y - l3) * sigmoid_derivative(l3)\n",
    "    l2_delta = np.dot(l3_delta, w3.T) * sigmoid_derivative(l2)\n",
    "    l1_delta = np.dot(l2_delta, w2.T) * sigmoid_derivative(l1)\n",
    "    \n",
    "    w3 += (np.dot(l2.T, l3_delta) * learning_rate)\n",
    "    w2 += (np.dot(l1.T, l2_delta) * learning_rate)\n",
    "    w1 += (np.dot(X.T, l1_delta) * learning_rate)\n",
    "    \n",
    "print(\"Error : %s\" % (error))\n",
    "# Error : 0.04159586023035698 / ephos = 1000 / learning rate = 0.001\n",
    "# Error : 0.025026491999248827 / ephos = 1000 / learning rate = 0.003\n",
    "# Error : 0.017449263358228224 / ephos = 2000 / learning rate = 0.003"
   ]
  },
  {
   "cell_type": "code",
   "execution_count": 16,
   "metadata": {},
   "outputs": [
    {
     "data": {
      "image/png": "[encoded data removed]",
      "text/plain": [
       "<Figure size 432x288 with 1 Axes>"
      ]
     },
     "metadata": {},
     "output_type": "display_data"
    }
   ],
   "source": [
    "plt.plot(error_per_iter)\n",
    "plt.grid()\n",
    "plt.show()"
   ]
  },
  {
   "cell_type": "code",
   "execution_count": 17,
   "metadata": {},
   "outputs": [
    {
     "data": {
      "text/html": [
       "<div>\n",
       "<style scoped>\n",
       "    .dataframe tbody tr th:only-of-type {\n",
       "        vertical-align: middle;\n",
       "    }\n",
       "\n",
       "    .dataframe tbody tr th {\n",
       "        vertical-align: top;\n",
       "    }\n",
       "\n",
       "    .dataframe thead th {\n",
       "        text-align: right;\n",
       "    }\n",
       "</style>\n",
       "<table border=\"1\" class=\"dataframe\">\n",
       "  <thead>\n",
       "    <tr style=\"text-align: right;\">\n",
       "      <th></th>\n",
       "      <th>ImageId</th>\n",
       "      <th>Label</th>\n",
       "    </tr>\n",
       "  </thead>\n",
       "  <tbody>\n",
       "    <tr>\n",
       "      <th>13335</th>\n",
       "      <td>13336</td>\n",
       "      <td>7</td>\n",
       "    </tr>\n",
       "    <tr>\n",
       "      <th>13757</th>\n",
       "      <td>13758</td>\n",
       "      <td>9</td>\n",
       "    </tr>\n",
       "    <tr>\n",
       "      <th>10702</th>\n",
       "      <td>10703</td>\n",
       "      <td>2</td>\n",
       "    </tr>\n",
       "    <tr>\n",
       "      <th>25585</th>\n",
       "      <td>25586</td>\n",
       "      <td>8</td>\n",
       "    </tr>\n",
       "    <tr>\n",
       "      <th>24505</th>\n",
       "      <td>24506</td>\n",
       "      <td>5</td>\n",
       "    </tr>\n",
       "    <tr>\n",
       "      <th>16693</th>\n",
       "      <td>16694</td>\n",
       "      <td>5</td>\n",
       "    </tr>\n",
       "    <tr>\n",
       "      <th>14650</th>\n",
       "      <td>14651</td>\n",
       "      <td>7</td>\n",
       "    </tr>\n",
       "    <tr>\n",
       "      <th>7460</th>\n",
       "      <td>7461</td>\n",
       "      <td>3</td>\n",
       "    </tr>\n",
       "    <tr>\n",
       "      <th>19358</th>\n",
       "      <td>19359</td>\n",
       "      <td>5</td>\n",
       "    </tr>\n",
       "    <tr>\n",
       "      <th>18370</th>\n",
       "      <td>18371</td>\n",
       "      <td>3</td>\n",
       "    </tr>\n",
       "  </tbody>\n",
       "</table>\n",
       "</div>"
      ],
      "text/plain": [
       "       ImageId  Label\n",
       "13335    13336      7\n",
       "13757    13758      9\n",
       "10702    10703      2\n",
       "25585    25586      8\n",
       "24505    24506      5\n",
       "16693    16694      5\n",
       "14650    14651      7\n",
       "7460      7461      3\n",
       "19358    19359      5\n",
       "18370    18371      3"
      ]
     },
     "execution_count": 17,
     "metadata": {},
     "output_type": "execute_result"
    }
   ],
   "source": [
    "X = test_X\n",
    "\n",
    "l1 = sigmoid(np.dot(X, w1))\n",
    "l2 = sigmoid(np.dot(l1, w2))\n",
    "l3 = sigmoid(np.dot(l2, w3))\n",
    "\n",
    "output = np.vstack((np.arange(1,28001), l3.argmax(axis=1))).T\n",
    "data_to_submit = pd.DataFrame(output, columns = ['ImageId','Label']) \n",
    "\n",
    "data_to_submit.sample(n=10)"
   ]
  },
  {
   "cell_type": "code",
   "execution_count": 18,
   "metadata": {},
   "outputs": [],
   "source": [
    "data_to_submit.to_csv('csv_to_submit.csv', index = False)"
   ]
  }
 ],
 "metadata": {
  "kernelspec": {
   "display_name": "Python 3",
   "language": "python",
   "name": "python3"
  },
  "language_info": {
   "codemirror_mode": {
    "name": "ipython",
    "version": 3
   },
   "file_extension": ".py",
   "mimetype": "text/x-python",
   "name": "python",
   "nbconvert_exporter": "python",
   "pygments_lexer": "ipython3",
   "version": "3.6.6"
  }
 },
 "nbformat": 4,
 "nbformat_minor": 1
}
